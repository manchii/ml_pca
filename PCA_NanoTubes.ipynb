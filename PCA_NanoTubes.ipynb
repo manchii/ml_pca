{
 "cells": [
  {
   "cell_type": "markdown",
   "metadata": {},
   "source": [
    "# Principal Component Analysis:\n",
    "## Topic: Carbon Nanotubes\n",
    "### Student: Kaleb Alfaro Badilla\n",
    "### Dataset: https://archive.ics.uci.edu/ml/datasets/Carbon+Nanotubes#"
   ]
  },
  {
   "cell_type": "code",
   "execution_count": 1,
   "metadata": {},
   "outputs": [
    {
     "name": "stdout",
     "output_type": "stream",
     "text": [
      "    n  m     Ini_u     Ini_v     Ini_w         u         v         w\n",
      "0   2  1  0,679005  0,701318  0,017033  0,721039  0,730232  0,017014\n",
      "1   2  1  0,717298  0,642129  0,231319  0,738414   0,65675  0,232369\n",
      "2   2  1  0,489336  0,303751  0,088462  0,477676  0,263221  0,088712\n",
      "3   2  1  0,413957  0,632996  0,040843  0,408823  0,657897  0,039796\n",
      "4   2  1  0,334292  0,543401   0,15989  0,303349  0,558807  0,157373\n",
      "5   2  1  0,510664  0,696249  0,255128  0,496977  0,725608   0,25597\n",
      "6   2  1  0,413957  0,632996  0,374176  0,390878  0,657645  0,374735\n",
      "7   2  1  0,712552   0,55479  0,112271  0,750056  0,561494  0,114944\n",
      "8   2  1  0,320995  0,298682    0,1837  0,281301  0,261433  0,182779\n",
      "9   2  1  0,394742  0,279367  0,302747   0,35086    0,2335  0,302196\n",
      "10  2  1  0,282702  0,357871  0,397985  0,229138  0,328729  0,398581\n"
     ]
    }
   ],
   "source": [
    "import matplotlib\n",
    "import matplotlib.pyplot as plt\n",
    "import pandas as pd\n",
    "url = \"https://archive.ics.uci.edu/ml/machine-learning-databases/00448/carbon_nanotubes.csv\"\n",
    "\n",
    "# load dataset into Pandas DataFrame\n",
    "features=['n','m','Ini_u','Ini_v','Ini_w','u','v','w']\n",
    "df = pd.read_csv(url, skiprows=1 ,names=features,sep=';')\n",
    "print(df.loc[:10,:])\n",
    "# Data is viewed as strings"
   ]
  },
  {
   "cell_type": "code",
   "execution_count": 2,
   "metadata": {},
   "outputs": [
    {
     "name": "stdout",
     "output_type": "stream",
     "text": [
      "    n  m     Ini_u     Ini_v     Ini_w         u         v         w\n",
      "0   2  1  0.679005  0.701318  0.017033  0.721039  0.730232  0.017014\n",
      "1   2  1  0.717298  0.642129  0.231319  0.738414  0.656750  0.232369\n",
      "2   2  1  0.489336  0.303751  0.088462  0.477676  0.263221  0.088712\n",
      "3   2  1  0.413957  0.632996  0.040843  0.408823  0.657897  0.039796\n",
      "4   2  1  0.334292  0.543401  0.159890  0.303349  0.558807  0.157373\n",
      "5   2  1  0.510664  0.696249  0.255128  0.496977  0.725608  0.255970\n",
      "6   2  1  0.413957  0.632996  0.374176  0.390878  0.657645  0.374735\n",
      "7   2  1  0.712552  0.554790  0.112271  0.750056  0.561494  0.114944\n",
      "8   2  1  0.320995  0.298682  0.183700  0.281301  0.261433  0.182779\n",
      "9   2  1  0.394742  0.279367  0.302747  0.350860  0.233500  0.302196\n",
      "10  2  1  0.282702  0.357871  0.397985  0.229138  0.328729  0.398581\n"
     ]
    }
   ],
   "source": [
    "# Code strings to numbers\n",
    "# Map ',' to '.' as follows 0,12313 --> 0.12313 \n",
    "for f in features:\n",
    "    if f in features[2:]: # n,m are integers\n",
    "        df.loc[:,f]=[float(x.replace(',','.')) for x in df.loc[:,f].values]\n",
    "    else:\n",
    "        df.loc[:,f]=[float(x) for x in df.loc[:,f].values]\n",
    "# Data sorted\n",
    "print(df.loc[:10,:])"
   ]
  },
  {
   "cell_type": "code",
   "execution_count": 3,
   "metadata": {},
   "outputs": [
    {
     "name": "stdout",
     "output_type": "stream",
     "text": [
      "[[-2.9108229  -1.38804248  0.62455356  0.7024735  -1.67286691  0.75956878\n",
      "   0.79093262 -1.67018766]\n",
      " [-2.9108229  -1.38804248  0.75820646  0.4958672  -0.93007977  0.81929283\n",
      "   0.53841568 -0.92522364]\n",
      " [-2.9108229  -1.38804248 -0.03744238 -0.68528181 -1.42527004 -0.0769564\n",
      "  -0.81392559 -1.42216727]\n",
      " [-2.9108229  -1.38804248 -0.30053541  0.46398737 -1.59033347 -0.31362865\n",
      "   0.54235728 -1.59137932]\n",
      " [-2.9108229  -1.38804248 -0.57858774  0.15124527 -1.17767664 -0.6761803\n",
      "   0.20183982 -1.18465259]]\n"
     ]
    }
   ],
   "source": [
    "# Now is proceeded to realize an standard distribution for each feature\n",
    "from sklearn.preprocessing import StandardScaler\n",
    "# Features vector \n",
    "x = df.loc[:, features].values\n",
    "\n",
    "x = StandardScaler().fit_transform(x)\n",
    "print(x[:5,:])"
   ]
  },
  {
   "cell_type": "code",
   "execution_count": 4,
   "metadata": {},
   "outputs": [
    {
     "data": {
      "image/png": "[encoded data removed]",
      "text/plain": [
       "<matplotlib.figure.Figure at 0x7fc3a0169860>"
      ]
     },
     "metadata": {},
     "output_type": "display_data"
    }
   ],
   "source": [
    "# Finally is proceeded to compute PCA\n",
    "n_components = 8\n",
    "pca_features = ['pc'+str(i) for i in range(n_components)]\n",
    "from sklearn.decomposition import PCA\n",
    "pca = PCA(n_components=n_components)\n",
    "principalComponents = pca.fit_transform(x)\n",
    "\n",
    "fig = plt.figure(figsize = (8,8))\n",
    "ax = fig.add_subplot(1,1,1) \n",
    "ind = range(1,n_components+1)\n",
    "ax.bar(ind,pca.explained_variance_ratio_)\n",
    "ax.set_xticks(ind)\n",
    "ax.set_xticklabels(pca_features)\n",
    "plt.show()"
   ]
  },
  {
   "cell_type": "markdown",
   "metadata": {},
   "source": [
    "Notice that 3 Principal componentes removed, so the dimencionality of the data set reduces from 8 to 5"
   ]
  },
  {
   "cell_type": "code",
   "execution_count": null,
   "metadata": {},
   "outputs": [],
   "source": []
  }
 ],
 "metadata": {
  "kernelspec": {
   "display_name": "Python 3",
   "language": "python",
   "name": "python3"
  },
  "language_info": {
   "codemirror_mode": {
    "name": "ipython",
    "version": 3
   },
   "file_extension": ".py",
   "mimetype": "text/x-python",
   "name": "python",
   "nbconvert_exporter": "python",
   "pygments_lexer": "ipython3",
   "version": "3.5.2"
  }
 },
 "nbformat": 4,
 "nbformat_minor": 2
}
