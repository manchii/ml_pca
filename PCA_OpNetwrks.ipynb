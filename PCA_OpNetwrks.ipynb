{
 "cells": [
  {
   "cell_type": "markdown",
   "metadata": {},
   "source": [
    "# Principal Component Analysis:\n",
    "## Topic: Optical Networks\n",
    "### Student: Kaleb Alfaro Badilla\n",
    "### Dataset: https://archive.ics.uci.edu/ml/datasets/Optical+Interconnection+Network+"
   ]
  },
  {
   "cell_type": "code",
   "execution_count": 2,
   "metadata": {},
   "outputs": [
    {
     "data": {
      "image/png": "[encoded data removed]",
      "text/plain": [
       "<matplotlib.figure.Figure at 0x7f4db348e400>"
      ]
     },
     "metadata": {},
     "output_type": "display_data"
    }
   ],
   "source": [
    "import matplotlib\n",
    "import matplotlib.pyplot as plt\n",
    "import pandas as pd\n",
    "import numpy as np\n",
    "from sklearn.preprocessing import LabelEncoder\n",
    "from sklearn.preprocessing import OneHotEncoder\n",
    "\n",
    "\n",
    "\n",
    "url = \"https://archive.ics.uci.edu/ml/machine-learning-databases/00449/optical_interconnection_network.csv\"\n",
    "\n",
    "df = pd.read_csv(url,sep=';')\n",
    "features = df.columns[:10]\n",
    "df = df.loc[:,features] \n",
    "#print(df.loc[:10,features].values)\n",
    "\n",
    "# Code strings to numbers\n",
    "# Map ',' to '.' as follows 0,12313 --> 0.12313 \n",
    "for f in features:\n",
    "    if f in features[:2]: # n,m are integers\n",
    "        df.loc[:,f]=[float(x) for x in df.loc[:,f].values]\n",
    "    elif f in features[4:]:\n",
    "        df.loc[:,f]=[float(x.replace(',','.')) for x in df.loc[:,f].values]\n",
    "\n",
    "        \n",
    "#class_map_temp={label:idx for idx,label in enumerate(np.unique(df.loc[:,features[3]]))}\n",
    "#df[features[3]] = df[features[3]].map(class_map_temp)\n",
    "\n",
    "x=df[features].values\n",
    "#print(x[:10,:])\n",
    "\n",
    "dist_le = LabelEncoder()\n",
    "\n",
    "\n",
    "x[:,2] = dist_le.fit_transform(x[:,2])\n",
    "x[:,3] = dist_le.fit_transform(x[:,3])\n",
    "\n",
    "ohe = OneHotEncoder(categorical_features=[2,3])\n",
    "ohe.fit_transform(x)\n",
    "x=ohe.transform(x).toarray()\n",
    "\n",
    "from sklearn.preprocessing import StandardScaler\n",
    "\n",
    "x = StandardScaler().fit_transform(x)\n",
    "\n",
    "# Finally is proceeded to compute PCA\n",
    "n_components = 14\n",
    "pca_features = ['pc'+str(i) for i in range(n_components)]\n",
    "from sklearn.decomposition import PCA\n",
    "pca = PCA(n_components=n_components)\n",
    "principalComponents = pca.fit_transform(x)\n",
    "\n",
    "fig = plt.figure(figsize = (8,8))\n",
    "ax = fig.add_subplot(1,1,1) \n",
    "ind = range(1,n_components+1)\n",
    "ax.bar(ind,pca.explained_variance_ratio_)\n",
    "ax.set_xticks(ind)\n",
    "ax.set_xticklabels(pca_features)\n",
    "plt.show()\n",
    "\n"
   ]
  }
 ],
 "metadata": {
  "kernelspec": {
   "display_name": "Python 3",
   "language": "python",
   "name": "python3"
  },
  "language_info": {
   "codemirror_mode": {
    "name": "ipython",
    "version": 3
   },
   "file_extension": ".py",
   "mimetype": "text/x-python",
   "name": "python",
   "nbconvert_exporter": "python",
   "pygments_lexer": "ipython3",
   "version": "3.5.2"
  }
 },
 "nbformat": 4,
 "nbformat_minor": 2
}
